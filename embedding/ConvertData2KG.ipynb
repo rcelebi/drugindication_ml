{
 "cells": [
  {
   "cell_type": "code",
   "execution_count": 1,
   "metadata": {},
   "outputs": [],
   "source": [
    "import pandas as pd\n",
    "import numpy as np"
   ]
  },
  {
   "cell_type": "code",
   "execution_count": 2,
   "metadata": {},
   "outputs": [],
   "source": [
    "fw= open('graph/drug-disease-kg.nt','w')"
   ]
  },
  {
   "cell_type": "code",
   "execution_count": 3,
   "metadata": {},
   "outputs": [],
   "source": [
    "df = pd.read_csv('../data/features/drugs-fingerprint.txt','\\t')\n",
    "for c in df.columns.difference(['Drug']):\n",
    "    drugs=  df['Drug'].iloc[df[c].nonzero()]\n",
    "    for d in drugs:\n",
    "        fw.write(d+'\\t<substructure>\\t'+c+'\\n')\n",
    "        fw.write(c+'\\t<r-substructure>\\t'+d+'\\n')"
   ]
  },
  {
   "cell_type": "code",
   "execution_count": 4,
   "metadata": {},
   "outputs": [],
   "source": [
    "df = pd.read_csv('../data/features/drugs-targets.txt','\\t')\n",
    "for c in df.columns.difference(['Drug']):\n",
    "    drugs=  df['Drug'].iloc[df[c].nonzero()]\n",
    "    for d in drugs:\n",
    "        fw.write(d+'\\t<target>\\t'+c+'\\n')\n",
    "        fw.write(c+'\\t<r-target>\\t'+d+'\\n')"
   ]
  },
  {
   "cell_type": "code",
   "execution_count": 5,
   "metadata": {},
   "outputs": [],
   "source": [
    "df = pd.read_csv('../data/features/drugs-sider-se.txt','\\t')\n",
    "for c in df.columns.difference(['Drug']):\n",
    "    drugs=  df['Drug'].iloc[df[c].nonzero()]\n",
    "    for d in drugs:\n",
    "        fw.write(d+'\\t<sideffect>\\t'+c+'\\n')\n",
    "        fw.write(c+'\\t<r-sideffect>\\t'+d+'\\n')"
   ]
  },
  {
   "cell_type": "code",
   "execution_count": 6,
   "metadata": {},
   "outputs": [],
   "source": [
    "df = pd.read_csv('../data/features/diseases-ndfrt-meddra.txt','\\t')\n",
    "for c in df.columns.difference(['Disease']):\n",
    "    drugs=  df['Disease'].iloc[df[c].nonzero()]\n",
    "    for d in drugs:\n",
    "        fw.write(d+'\\t<phenotype>\\t'+c+'\\n')\n",
    "        fw.write(c+'\\t<r-phenotype>\\t'+d+'\\n')"
   ]
  },
  {
   "cell_type": "code",
   "execution_count": 7,
   "metadata": {},
   "outputs": [],
   "source": [
    "fw.close()"
   ]
  },
  {
   "cell_type": "code",
   "execution_count": null,
   "metadata": {},
   "outputs": [],
   "source": []
  }
 ],
 "metadata": {
  "kernelspec": {
   "display_name": "Python 3",
   "language": "python",
   "name": "python3"
  },
  "language_info": {
   "codemirror_mode": {
    "name": "ipython",
    "version": 3
   },
   "file_extension": ".py",
   "mimetype": "text/x-python",
   "name": "python",
   "nbconvert_exporter": "python",
   "pygments_lexer": "ipython3",
   "version": "3.6.7"
  }
 },
 "nbformat": 4,
 "nbformat_minor": 2
}
